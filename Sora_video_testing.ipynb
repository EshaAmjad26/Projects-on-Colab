{
  "nbformat": 4,
  "nbformat_minor": 0,
  "metadata": {
    "colab": {
      "provenance": [],
      "authorship_tag": "ABX9TyMslnYI4hHrUafGAqKOyUl1",
      "include_colab_link": true
    },
    "kernelspec": {
      "name": "python3",
      "display_name": "Python 3"
    },
    "language_info": {
      "name": "python"
    }
  },
  "cells": [
    {
      "cell_type": "markdown",
      "metadata": {
        "id": "view-in-github",
        "colab_type": "text"
      },
      "source": [
        "<a href=\"https://colab.research.google.com/github/EshaAmjad26/Projects-on-Colab/blob/main/Sora_video_testing.ipynb\" target=\"_parent\"><img src=\"https://colab.research.google.com/assets/colab-badge.svg\" alt=\"Open In Colab\"/></a>"
      ]
    },
    {
      "cell_type": "markdown",
      "source": [
        "## Title: The Brave Painter\n",
        "\n",
        "Mia, a shy little girl, finds a magical paintbrush in her attic. As she paints, her drawings come to life! A butterfly flutters out, then a rainbow appears in the sky. When she hesitates, the colors start fading—but with a deep breath, she believes in herself. The world bursts into color again, and she smiles, ready to paint her dreams."
      ],
      "metadata": {
        "id": "XdIJP7pkSUxJ"
      }
    },
    {
      "cell_type": "code",
      "execution_count": 1,
      "metadata": {
        "colab": {
          "base_uri": "https://localhost:8080/"
        },
        "id": "0Fxq0vW-QfQ-",
        "outputId": "30facae6-999b-415c-ba8e-d2f3f2aea656"
      },
      "outputs": [
        {
          "output_type": "stream",
          "name": "stdout",
          "text": [
            "\u001b[?25l   \u001b[90m━━━━━━━━━━━━━━━━━━━━━━━━━━━━━━━━━━━━━━━━\u001b[0m \u001b[32m0.0/122.9 kB\u001b[0m \u001b[31m?\u001b[0m eta \u001b[36m-:--:--\u001b[0m\r\u001b[2K   \u001b[91m━━━━━━━━━━━━━━━━━━━━━━━━━━━━━━━━━━━━\u001b[0m\u001b[91m╸\u001b[0m\u001b[90m━━━\u001b[0m \u001b[32m112.6/122.9 kB\u001b[0m \u001b[31m4.4 MB/s\u001b[0m eta \u001b[36m0:00:01\u001b[0m\r\u001b[2K   \u001b[90m━━━━━━━━━━━━━━━━━━━━━━━━━━━━━━━━━━━━━━━━\u001b[0m \u001b[32m122.9/122.9 kB\u001b[0m \u001b[31m1.8 MB/s\u001b[0m eta \u001b[36m0:00:00\u001b[0m\n",
            "\u001b[?25h"
          ]
        }
      ],
      "source": [
        "!pip install --upgrade --quiet google-genai"
      ]
    },
    {
      "cell_type": "code",
      "source": [
        "from google.colab import userdata\n",
        "GEMINI_API_KEY = userdata.get('GEMINI_API_KEY')\n",
        "from google import genai\n",
        "from google.genai import Client\n",
        "client : genai.Client = Client(\n",
        "    api_key = GEMINI_API_KEY,\n",
        "\n",
        ")\n"
      ],
      "metadata": {
        "colab": {
          "base_uri": "https://localhost:8080/"
        },
        "id": "6u93AIvyQoNx",
        "outputId": "a2bdde6e-902f-4a0c-c9be-1e006c0c7567"
      },
      "execution_count": 2,
      "outputs": [
        {
          "output_type": "stream",
          "name": "stderr",
          "text": [
            "/usr/local/lib/python3.11/dist-packages/pydantic/_internal/_generate_schema.py:502: UserWarning: <built-in function any> is not a Python type (it may be an instance of an object), Pydantic will allow any object with no validation since we cannot even enforce that the input is an instance of the given type. To get rid of this error wrap the type with `pydantic.SkipValidation`.\n",
            "  warn(\n"
          ]
        }
      ]
    },
    {
      "cell_type": "code",
      "source": [
        "model = \"gemini-2.0-flash-exp\""
      ],
      "metadata": {
        "id": "n6YeBaUZRKSf"
      },
      "execution_count": 3,
      "outputs": []
    },
    {
      "cell_type": "code",
      "source": [
        "from google.genai.types import GenerateContentResponse\n",
        "from IPython.display import display, Markdown\n",
        "\n",
        "response : GenerateContentResponse = client.models.generate_content(\n",
        "    model = model,\n",
        "    contents = 'How Ai works'\n",
        ")"
      ],
      "metadata": {
        "id": "6YFcqkfaQvg7"
      },
      "execution_count": 4,
      "outputs": []
    },
    {
      "cell_type": "code",
      "source": [
        "import time\n",
        "def upload_video_file(video_file_name):\n",
        "  video_file = client.files.upload(path = video_file_name)\n",
        "  while video_file.state == 'PROCESSING':\n",
        "    print(\"Please wait. Video is in processing.\")\n",
        "    time.sleep(10)\n",
        "    video_file = client.files.get(name = video_file.name or '')\n",
        "  if video_file.state == 'FAILED':\n",
        "    raise ValueError(video_file.state)\n",
        "  print('Video Processing Completed')\n",
        "  return video_file\n",
        "\n",
        "video = upload_video_file('/content/20250131_0303_Mia\\'s Magical Paintbrush_simple_compose_01jjwkvgqyfrzbaa8vvvmyk50j.mp4')"
      ],
      "metadata": {
        "colab": {
          "base_uri": "https://localhost:8080/"
        },
        "id": "k1KorUjZRBip",
        "outputId": "d32af671-8962-41cf-ba21-c9d5733587e4"
      },
      "execution_count": 7,
      "outputs": [
        {
          "output_type": "stream",
          "name": "stdout",
          "text": [
            "Please wait. Video is in processing.\n",
            "Video Processing Completed\n"
          ]
        }
      ]
    },
    {
      "cell_type": "code",
      "source": [
        "from google.genai.types import Content, Part\n",
        "prompt = '''Analyze the video And Generate the content.\n",
        "for each scene in the video, generate caption that give the description in the text form of each scence.\n",
        "Place Each caption with the time code of the video'''\n",
        "\n",
        "response : GenerateContentResponse = client.models.generate_content(\n",
        "    model = model,\n",
        "    contents = [\n",
        "        Content(\n",
        "            role ='User',\n",
        "            parts = [\n",
        "\n",
        "                Part.from_uri(\n",
        "                    file_uri=video.uri or \"\",\n",
        "                    mime_type=video.mime_type or \"\"),\n",
        "            ],\n",
        "        ),\n",
        "        prompt\n",
        "    ],\n",
        "\n",
        "\n",
        ")\n",
        "\n",
        "display(Markdown(response.text))"
      ],
      "metadata": {
        "colab": {
          "base_uri": "https://localhost:8080/",
          "height": 394
        },
        "id": "DeQKeE6ORR1_",
        "outputId": "63f1c93b-9db9-405e-fe80-f02085b8f780"
      },
      "execution_count": 8,
      "outputs": [
        {
          "output_type": "display_data",
          "data": {
            "text/plain": [
              "<IPython.core.display.Markdown object>"
            ],
            "text/markdown": "Certainly! Here's a breakdown of the video content with descriptions for each scene and their corresponding timestamps:\n\n**Video Analysis and Captions**\n\n*   **00:00** - A young girl with curly brown hair is seated on the floor of a dimly lit attic. She's holding a fancy, ornate pen and is focused on writing or drawing on a piece of paper. Around her are stacked brown boxes, and a single window allows a beam of light into the room.\n*   **00:01** - The camera angle remains consistent. The young girl is still writing on paper in the attic, with the boxes and window forming a background. The focus is on the girl and her focused work.\n*   **00:02** - The view of the girl writing remains the same, with the boxes and window framing the scene. She is engaged in her activity. The lighting is atmospheric and the details of the attic are visible.\n*   **00:03** - The scene of the girl writing remains unchanged. The lighting in the attic is still warm and the room is filled with brown boxes that give the scene a cozy and nostalgic feeling.\n*   **00:04** - A close-up of a girl with blonde hair is shown. She's painting a colorful butterfly on a canvas, with a rainbow behind her. She is focused, holding a thin brush in her mouth. \n*   **00:05** - The same scene as the previous, zoomed in a little closer. The blonde girl's profile is seen as she paints the butterfly. The rainbow is visible in the background, suggesting a fantastical or dreamlike setting.\n*   **00:06** - Two girls are now in view, with the same setting. One blonde girl watches as the girl with curly brown hair holds her paintbrush to the window. A colorful rainbow arch appears from behind the window and an animated butterfly flies to it.\n*  **00:07** - The view of the girls with the rainbow and animated butterfly is the same, showing the girls' reaction. The focus remains on the scene.\n* **00:08** - The same scene as the previous, but this time the scene is zoomed in further. The colors of the rainbow appear brighter. \n* **00:09** - The scene remains the same with the focus on the girls and the rainbow. The butterfly is seen closer to the window. The whole scene is full of color.\n\nIf you have any other requests or questions, feel free to ask!"
          },
          "metadata": {}
        }
      ]
    }
  ]
}