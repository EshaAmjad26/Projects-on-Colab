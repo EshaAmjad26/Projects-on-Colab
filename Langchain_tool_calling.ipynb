{
  "nbformat": 4,
  "nbformat_minor": 0,
  "metadata": {
    "colab": {
      "provenance": [],
      "authorship_tag": "ABX9TyPB5/JSG714lVLxpf89Su0q",
      "include_colab_link": true
    },
    "kernelspec": {
      "name": "python3",
      "display_name": "Python 3"
    },
    "language_info": {
      "name": "python"
    }
  },
  "cells": [
    {
      "cell_type": "markdown",
      "metadata": {
        "id": "view-in-github",
        "colab_type": "text"
      },
      "source": [
        "<a href=\"https://colab.research.google.com/github/EshaAmjad26/Projects-on-Colab/blob/main/Langchain_tool_calling.ipynb\" target=\"_parent\"><img src=\"https://colab.research.google.com/assets/colab-badge.svg\" alt=\"Open In Colab\"/></a>"
      ]
    },
    {
      "cell_type": "code",
      "execution_count": null,
      "metadata": {
        "id": "6NuKAPSVS6xi",
        "colab": {
          "base_uri": "https://localhost:8080/"
        },
        "outputId": "6a459fca-f2f6-488f-e360-b9718276caf7"
      },
      "outputs": [
        {
          "output_type": "stream",
          "name": "stdout",
          "text": [
            "\u001b[?25l   \u001b[90m━━━━━━━━━━━━━━━━━━━━━━━━━━━━━━━━━━━━━━━━\u001b[0m \u001b[32m0.0/41.5 kB\u001b[0m \u001b[31m?\u001b[0m eta \u001b[36m-:--:--\u001b[0m\r\u001b[2K   \u001b[90m━━━━━━━━━━━━━━━━━━━━━━━━━━━━━━━━━━━━━━━━\u001b[0m \u001b[32m41.5/41.5 kB\u001b[0m \u001b[31m1.7 MB/s\u001b[0m eta \u001b[36m0:00:00\u001b[0m\n",
            "\u001b[?25h\u001b[?25l   \u001b[90m━━━━━━━━━━━━━━━━━━━━━━━━━━━━━━━━━━━━━━━━\u001b[0m \u001b[32m0.0/411.6 kB\u001b[0m \u001b[31m?\u001b[0m eta \u001b[36m-:--:--\u001b[0m\r\u001b[2K   \u001b[91m━━━━━━━━━━━━━━━━━━━━━━━━━━━━━━━━━━━━━━━\u001b[0m\u001b[91m╸\u001b[0m \u001b[32m409.6/411.6 kB\u001b[0m \u001b[31m17.8 MB/s\u001b[0m eta \u001b[36m0:00:01\u001b[0m\r\u001b[2K   \u001b[90m━━━━━━━━━━━━━━━━━━━━━━━━━━━━━━━━━━━━━━━━\u001b[0m \u001b[32m411.6/411.6 kB\u001b[0m \u001b[31m9.4 MB/s\u001b[0m eta \u001b[36m0:00:00\u001b[0m\n",
            "\u001b[?25h"
          ]
        }
      ],
      "source": [
        "!pip install langchain google-generativeai langchain_google_genai -q"
      ]
    },
    {
      "cell_type": "code",
      "source": [
        "from google.colab import userdata\n",
        "GEMINI_API_KEY = userdata.get('GEMINI_API_KEY')\n"
      ],
      "metadata": {
        "id": "_ZsI3QSrTHqt"
      },
      "execution_count": null,
      "outputs": []
    },
    {
      "cell_type": "code",
      "source": [
        "from langchain_google_genai import ChatGoogleGenerativeAI\n",
        "llm : ChatGoogleGenerativeAI = ChatGoogleGenerativeAI(\n",
        "    model = 'gemini-2.0-flash-exp',\n",
        "    api_key=GEMINI_API_KEY)"
      ],
      "metadata": {
        "id": "GJQHNrZPTU3N"
      },
      "execution_count": null,
      "outputs": []
    },
    {
      "cell_type": "markdown",
      "source": [
        "## Python Function"
      ],
      "metadata": {
        "id": "HdnbExSBXuUa"
      }
    },
    {
      "cell_type": "code",
      "source": [
        "from langchain_core.tools import tool\n",
        "@tool\n",
        "def python_query_response(query: str) -> str:\n",
        "    \"\"\"Responds to Python programming-related queries.\n",
        "\n",
        "    This function takes a Python-related query as input and provides an appropriate\n",
        "    response, including explanations or examples where applicable.\n",
        "\n",
        "    Args:\n",
        "        query (str): The Python programming-related query.\n",
        "\n",
        "    Returns:\n",
        "        str: A detailed response to the query, including code examples or guidance.\n",
        "\n",
        "    Raises:\n",
        "        ValueError: If the query is not Python-related or is empty.\n",
        "    \"\"\"\n",
        "    if not query:\n",
        "        raise ValueError(\"Query cannot be empty. Please provide a valid Python-related query.\")\n",
        "\n",
        "    # Define a dictionary with sample Python-related questions and responses.\n",
        "    responses = {\n",
        "        \"how to define a function\": \"You can define a function using the 'def' keyword. Example:\\n\\n\" \\\n",
        "        \"def my_function():\\n    print('Hello, world!')\",\n",
        "\n",
        "        \"what is a list in python\": \"A list is a mutable, ordered collection of items. Example:\\n\\n\" \\\n",
        "        \"my_list = [1, 2, 3, 'apple']\",\n",
        "\n",
        "        \"how to handle exceptions\": \"You can handle exceptions using a try-except block. Example:\\n\\n\" \\\n",
        "        \"try:\\n    result = 10 / 0\\nexcept ZeroDivisionError:\\n    print('Cannot divide by zero.')\",\n",
        "\n",
        "        \"what is python\": \"Python is a high-level, interpreted programming language known for its simplicity and versatility. It is widely used in web development, data analysis, AI, and more.\",\n",
        "    }\n",
        "\n",
        "    # Search for a predefined response or return a default response.\n",
        "    response = responses.get(query.lower(), \"I'm sorry, I couldn't find an answer to your query. Could you rephrase or ask something specific about Python?\")\n",
        "\n",
        "    return response\n"
      ],
      "metadata": {
        "id": "EmTfXmyuXw2N"
      },
      "execution_count": null,
      "outputs": []
    },
    {
      "cell_type": "code",
      "source": [
        "import random\n",
        "@tool\n",
        "def generate_python_quiz(topic: str) -> None:\n",
        "    \"\"\"Generates a Python quiz with 20 questions based on the provided topic.\n",
        "\n",
        "    This function creates a quiz related to a specified Python topic and displays the correct\n",
        "    answers at the end.\n",
        "\n",
        "    Args:\n",
        "        topic (str): The Python topic for the quiz.\n",
        "\n",
        "    Returns:\n",
        "        None\n",
        "    \"\"\"\n",
        "    if not topic:\n",
        "        raise ValueError(\"Topic cannot be empty. Please provide a valid Python topic.\")\n",
        "\n",
        "    # Predefined questions and answers for various Python topics.\n",
        "    questions_bank = {\n",
        "        \"functions\": [\n",
        "            (\"What keyword is used to define a function in Python?\", \"def\"),\n",
        "            (\"How do you specify default values for function parameters?\", \"By assigning a value in the function definition.\"),\n",
        "            (\"Can a function return multiple values?\", \"Yes, by returning a tuple.\"),\n",
        "            (\"What is the purpose of the 'return' statement in a function?\", \"To specify the output of the function.\"),\n",
        "            (\"What is the scope of a variable declared inside a function?\", \"Local scope.\"),\n",
        "        ],\n",
        "        \"lists\": [\n",
        "            (\"How do you create a list in Python?\", \"Using square brackets [].\"),\n",
        "            (\"How do you access the first element of a list?\", \"Using list[0].\"),\n",
        "            (\"How do you append an item to a list?\", \"Using the append() method.\"),\n",
        "            (\"How do you remove an item from a list by value?\", \"Using the remove() method.\"),\n",
        "            (\"How do you sort a list in ascending order?\", \"Using the sort() method.\"),\n",
        "        ],\n",
        "        \"exceptions\": [\n",
        "            (\"What is an exception in Python?\", \"An error that occurs during program execution.\"),\n",
        "            (\"How do you handle exceptions in Python?\", \"Using try-except blocks.\"),\n",
        "            (\"What keyword is used to raise an exception?\", \"raise\"),\n",
        "            (\"Can you handle multiple exceptions in a single block?\", \"Yes, by using multiple except clauses.\"),\n",
        "            (\"What is the base class for all exceptions in Python?\", \"BaseException\"),\n",
        "        ],\n",
        "        \"strings\": [\n",
        "            (\"How do you create a string in Python?\", \"Using single or double quotes.\"),\n",
        "            (\"What method is used to convert a string to lowercase?\", \"lower()\"),\n",
        "            (\"How do you concatenate two strings?\", \"Using the + operator.\"),\n",
        "            (\"What method is used to find the length of a string?\", \"len()\"),\n",
        "            (\"How do you access a specific character in a string?\", \"Using indexing, e.g., string[index].\"),\n",
        "        ],\n",
        "    }\n",
        "\n",
        "    # Fetch questions for the given topic.\n",
        "    questions = questions_bank.get(topic.lower())\n",
        "    if not questions:\n",
        "        print(f\"Sorry, no questions available for the topic: {topic}\")\n",
        "        return\n",
        "\n",
        "    # Randomly select 20 questions or all available questions if fewer.\n",
        "    selected_questions = random.sample(questions, min(20, len(questions)))\n",
        "\n",
        "    # Display the quiz.\n",
        "    print(f\"Python Quiz on Topic: {topic.capitalize()}\\n\")\n",
        "    answers = []\n",
        "    for i, (question, answer) in enumerate(selected_questions, 1):\n",
        "        print(f\"{i}. {question}\")\n",
        "        user_answer = input(\"Your answer: \")\n",
        "        answers.append((question, answer, user_answer))\n",
        "\n",
        "    # Display correct answers.\n",
        "    print(\"\\nCorrect Answers:\\n\")\n",
        "    for i, (question, correct_answer, user_answer) in enumerate(answers, 1):\n",
        "        print(f\"{i}. {question}\\n   Your Answer: {user_answer}\\n   Correct Answer: {correct_answer}\\n\")\n",
        "    # Normalize the input topic to avoid mismatches\n",
        "    normalized_topic = topic.lower().strip()\n",
        "    if normalized_topic.endswith('s'):  # Handle plural to singular\n",
        "        normalized_topic = normalized_topic[:-1]\n",
        "\n",
        "    # Fetch questions for the given topic\n",
        "    questions = questions_bank.get(normalized_topic)\n",
        "    if not questions:\n",
        "        print(f\"Sorry, no questions available for the topic: {topic}\")\n",
        "        return\n",
        "\n"
      ],
      "metadata": {
        "id": "zanvmvmUZOux"
      },
      "execution_count": null,
      "outputs": []
    },
    {
      "cell_type": "code",
      "source": [
        "tools = [python_query_response,]"
      ],
      "metadata": {
        "id": "oq8xSKQlU3Fw"
      },
      "execution_count": null,
      "outputs": []
    },
    {
      "cell_type": "code",
      "source": [
        "from langchain.agents import initialize_agent, AgentType\n",
        "\n",
        "agent = initialize_agent(\n",
        "    tools,\n",
        "    llm,\n",
        "    agent = AgentType.STRUCTURED_CHAT_ZERO_SHOT_REACT_DESCRIPTION,\n",
        "    handle_parsing_errors=True\n",
        "\n",
        ")"
      ],
      "metadata": {
        "id": "015kcgIFVoXs",
        "colab": {
          "base_uri": "https://localhost:8080/"
        },
        "outputId": "95875537-a529-41e3-92ed-a4c0f02776ee"
      },
      "execution_count": null,
      "outputs": [
        {
          "output_type": "stream",
          "name": "stderr",
          "text": [
            "<ipython-input-8-de1eb37ea40c>:3: LangChainDeprecationWarning: LangChain agents will continue to be supported, but it is recommended for new use cases to be built with LangGraph. LangGraph offers a more flexible and full-featured framework for building agents, including support for tool-calling, persistence of state, and human-in-the-loop workflows. See LangGraph documentation for more details: https://langchain-ai.github.io/langgraph/. Refer here for its pre-built ReAct agent: https://langchain-ai.github.io/langgraph/how-tos/create-react-agent/\n",
            "  agent = initialize_agent(\n"
          ]
        }
      ]
    },
    {
      "cell_type": "code",
      "source": [
        "response = agent.invoke('What is list and also give code')\n",
        "response['output']"
      ],
      "metadata": {
        "colab": {
          "base_uri": "https://localhost:8080/",
          "height": 54
        },
        "id": "LvOm2MuNV2Mw",
        "outputId": "efa9ceda-a1f4-4652-a9fc-9bbe4e839ee7"
      },
      "execution_count": null,
      "outputs": [
        {
          "output_type": "execute_result",
          "data": {
            "text/plain": [
              "'A list in Python is a versatile data structure that stores an ordered collection of items. Lists are mutable, meaning you can change their contents after they are created. They can contain elements of different data types (integers, strings, other lists, etc.).'"
            ],
            "application/vnd.google.colaboratory.intrinsic+json": {
              "type": "string"
            }
          },
          "metadata": {},
          "execution_count": 10
        }
      ]
    },
    {
      "cell_type": "code",
      "source": [],
      "metadata": {
        "id": "Fy-zVs5ZnD2H"
      },
      "execution_count": null,
      "outputs": []
    }
  ]
}