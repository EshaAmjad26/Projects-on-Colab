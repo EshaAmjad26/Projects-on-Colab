{
  "nbformat": 4,
  "nbformat_minor": 0,
  "metadata": {
    "colab": {
      "provenance": [],
      "authorship_tag": "ABX9TyMXw5rsLdyZgQ79m/SO7epQ",
      "include_colab_link": true
    },
    "kernelspec": {
      "name": "python3",
      "display_name": "Python 3"
    },
    "language_info": {
      "name": "python"
    }
  },
  "cells": [
    {
      "cell_type": "markdown",
      "metadata": {
        "id": "view-in-github",
        "colab_type": "text"
      },
      "source": [
        "<a href=\"https://colab.research.google.com/github/EshaAmjad26/Projects-on-Colab/blob/main/calculatorusingfunction.ipynb\" target=\"_parent\"><img src=\"https://colab.research.google.com/assets/colab-badge.svg\" alt=\"Open In Colab\"/></a>"
      ]
    },
    {
      "cell_type": "code",
      "execution_count": null,
      "metadata": {
        "id": "GjSD-mlh_Xvg"
      },
      "outputs": [],
      "source": [
        "def sum(c,d):\n",
        "    sum1= c+d\n",
        "    return sum1\n",
        "def sub(c,d):\n",
        "    sub1= c-d\n",
        "    return sub1\n",
        "def mul(c,d):\n",
        "    mul1= c*d\n",
        "    return mul1\n",
        "def div(c,d):\n",
        "    if d == 0:\n",
        "      print(\"Division is not possible.\")\n",
        "    else:\n",
        "      div1= c/d\n",
        "      return div1"
      ]
    },
    {
      "cell_type": "code",
      "source": [
        "a=int(input(\"Enter first number:\\t\"))\n",
        "b=int(input(\"Enter second number:\\t\"))\n",
        "op=input(\"Enter operation (+,-,*,/): \")\n",
        "print(f\"The First number is {a} \\nThe second number is {b} \")\n",
        "if op == '+':\n",
        "    display1 = sum(a,b)\n",
        "    print(f\"The Sum is {display1}\")\n",
        "if op == '-':\n",
        "    display2 = sub(a,b)\n",
        "    print(f\"The Subtraction  is {display2}\")\n",
        "if op == '*':\n",
        "    display3 = mul(a,b)\n",
        "    print(f\"The multiplication is {display3}\")\n",
        "if op == '/':\n",
        "    display4 = div(a,b)\n",
        "    print(f\"The division is {display4}\")"
      ],
      "metadata": {
        "colab": {
          "base_uri": "https://localhost:8080/"
        },
        "id": "HN3UL7vo_t_z",
        "outputId": "a1b3b0a5-2a4e-477e-e079-9a386d984067"
      },
      "execution_count": null,
      "outputs": [
        {
          "output_type": "stream",
          "name": "stdout",
          "text": [
            "Enter first number:\t5\n",
            "Enter second number:\t6\n",
            "Enter operation (+,-,*,/): *\n",
            "The First number is 5 \n",
            "The second number is 6 \n",
            "The multiplication is 30\n"
          ]
        }
      ]
    }
  ]
}