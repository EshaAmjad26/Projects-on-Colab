{
  "cells": [
    {
      "cell_type": "markdown",
      "metadata": {
        "id": "view-in-github",
        "colab_type": "text"
      },
      "source": [
        "<a href=\"https://colab.research.google.com/github/EshaAmjad26/Projects-on-Colab/blob/main/Gemini_2_0_Flash_Assignment.ipynb\" target=\"_parent\"><img src=\"https://colab.research.google.com/assets/colab-badge.svg\" alt=\"Open In Colab\"/></a>"
      ]
    },
    {
      "cell_type": "markdown",
      "source": [
        "# Gemini_2.0_Flash_Assignment"
      ],
      "metadata": {
        "id": "HtZYRqmFWoIW"
      }
    },
    {
      "cell_type": "code",
      "execution_count": null,
      "metadata": {
        "id": "5PjusUn3b9yh"
      },
      "outputs": [],
      "source": [
        "!pip install --upgrade --quiet google-genai"
      ]
    },
    {
      "cell_type": "code",
      "execution_count": null,
      "metadata": {
        "id": "B__lGIKOc3o5"
      },
      "outputs": [],
      "source": [
        "import os\n",
        "from google.colab import userdata\n",
        "os.environ['GEMINI_API_KEY'] = userdata.get('GEMINI_API_KEY')"
      ]
    },
    {
      "cell_type": "code",
      "execution_count": null,
      "metadata": {
        "id": "3M4AtWrEdxfC"
      },
      "outputs": [],
      "source": [
        "model = 'gemini-2.0-flash-exp'"
      ]
    },
    {
      "cell_type": "code",
      "execution_count": null,
      "metadata": {
        "id": "AkjDpSlLd48o"
      },
      "outputs": [],
      "source": [
        "from google.genai import Client\n",
        "client : Client = Client(\n",
        "    api_key = os.environ['GEMINI_API_KEY']\n",
        ")"
      ]
    },
    {
      "cell_type": "code",
      "execution_count": null,
      "metadata": {
        "id": "OcRT44CWeWmu"
      },
      "outputs": [],
      "source": [
        "from google.genai.types import GenerateContentResponse\n",
        "\n",
        "response : GenerateContentResponse = client.models.generate_content(\n",
        "    model = model,\n",
        "    contents =(\"I'm Esha\")\n",
        "\n",
        ")\n",
        "\n"
      ]
    },
    {
      "cell_type": "code",
      "execution_count": null,
      "metadata": {
        "colab": {
          "base_uri": "https://localhost:8080/",
          "height": 46
        },
        "id": "ftwvP32AfCym",
        "outputId": "30128b77-2ca4-4a8a-f335-7f8bd11a602a"
      },
      "outputs": [
        {
          "output_type": "display_data",
          "data": {
            "text/plain": [
              "<IPython.core.display.Markdown object>"
            ],
            "text/markdown": "Hi Esha, it's nice to meet you! How can I help you today? 😊\n"
          },
          "metadata": {}
        }
      ],
      "source": [
        "from IPython.display import display, Markdown\n",
        "display(Markdown(response.text))"
      ]
    },
    {
      "cell_type": "markdown",
      "source": [
        "# Video Analysis"
      ],
      "metadata": {
        "id": "UvIbzeFtUiVN"
      }
    },
    {
      "cell_type": "code",
      "execution_count": null,
      "metadata": {
        "id": "UdgjVuY_fuNm"
      },
      "outputs": [],
      "source": [
        "import time\n",
        "def upload_video(Video_upload):\n",
        "  video_file = client.files.upload(path = Video_upload)\n",
        "  while video_file.state == 'PROCESSING':\n",
        "    print(\"Video is in Processing...\")\n",
        "    time.sleep(10)\n",
        "    video_file = client.files.get(name = video_file.name or '')\n",
        "  if video_file.state == 'FAILED':\n",
        "    raise ValueError(video_file.state)\n",
        "  print(\"Video is Processed\")\n",
        "  return video_file"
      ]
    },
    {
      "cell_type": "code",
      "execution_count": null,
      "metadata": {
        "colab": {
          "base_uri": "https://localhost:8080/"
        },
        "id": "AdCGEeMShFEL",
        "outputId": "8ed15764-ec85-41db-9915-db13918a2313"
      },
      "outputs": [
        {
          "output_type": "stream",
          "name": "stdout",
          "text": [
            "Video is in Processing...\n",
            "Video is Processed\n"
          ]
        }
      ],
      "source": [
        "Video = upload_video('/content/10 Second Rocket Launch.mp4')"
      ]
    },
    {
      "cell_type": "code",
      "execution_count": null,
      "metadata": {
        "id": "IgGqrW-rhVM6"
      },
      "outputs": [],
      "source": [
        "from google.genai.types import GenerateContentResponse\n",
        "from google.genai.types import Part, Content\n",
        "prompt= '''Analyze the video carefully and give me the description of each time slot .\n",
        "'''\n",
        "\n",
        "response : GenerateContentResponse = client.models.generate_content(\n",
        "    model = model,\n",
        "    contents=[\n",
        "        Content(\n",
        "            role = 'User',\n",
        "            parts = [\n",
        "                Part.from_uri(\n",
        "                    file_uri = Video.uri or '',\n",
        "                    mime_type = Video.mime_type or '',\n",
        "                )\n",
        "            ],\n",
        "       ),\n",
        "      prompt\n",
        "    ],\n",
        "\n",
        ")"
      ]
    },
    {
      "cell_type": "code",
      "source": [
        "display(Markdown(response.text))"
      ],
      "metadata": {
        "colab": {
          "base_uri": "https://localhost:8080/",
          "height": 471
        },
        "id": "AGmvgwBHTodM",
        "outputId": "d001281c-aa1e-48bd-a7d7-d7ef083f627c"
      },
      "execution_count": null,
      "outputs": [
        {
          "output_type": "display_data",
          "data": {
            "text/plain": [
              "<IPython.core.display.Markdown object>"
            ],
            "text/markdown": "Certainly! Here is a description of each time slot in the provided video:\n\n**[00:00:00 - 00:00:00]** - The video begins with a stylized image of a solar system. There is a number \"10\" at the left with a white outline and also a yellow and orange planet within the white circular paths of the solar system and all against a blue background with scattered white and dark circles representing stars.\n\n**[00:00:01 - 00:00:01]** - A white number \"9\" with a shadow effect is shown against a blue background. There are also scattered white and dark circles, like stars, and the silhouette of a mountain range is at the bottom.\n\n**[00:00:02 - 00:00:03]** - A white, outlined number \"8\" is displayed against the blue and starry background. Behind the \"8\" there's an orange, ringed planet and a yellow circle that could be a sun or another planet.\n\n**[00:00:03 - 00:00:03]** - A yellow telescope on a tripod is shown from a slightly lower angle. The background remains the same dark blue with the scattering of white and dark star-like circles.\n\n**[00:00:04 - 00:00:04]** - A white number \"6\" against the blue starry background appears, with an image of a shooting star coming from the left top area.\n\n**[00:00:05 - 00:00:05]** - The number \"5\" has a silver moon in the background, and a yellow and red flag is in the foreground, all against the same blue background with scattered stars.\n\n**[00:00:06 - 00:00:06]** - A gray, three-dimensional number \"4\" is depicted, floating in a blue starry background.\n\n**[00:00:07 - 00:00:07]** - A white number \"3\" is seen against the blue background with stars. It is decorated with brown and white circles connected with white lines to form a constellation-like pattern.\n\n**[00:00:08 - 00:00:08]** - The number \"2\" is partially visible in the background with a large gray and blue satellite dish. The background is solid blue in this time slot.\n\n**[00:00:09 - 00:00:09]** - A white and red rocket standing upright is displayed against a solid blue background.\n\n**[00:00:09 - 00:00:12]** - The rocket takes off, spewing orange flames and dark gray clouds of smoke, against a light blue sky with white clouds. The rocket ascends up into the sky.\n\n**[00:00:13 - 00:00:15]** - The scene shows a silhouette of a person looking up, with thought bubbles floating above. The background is a solid light blue.\n\nLet me know if you have more questions or require further analysis!"
          },
          "metadata": {}
        }
      ]
    },
    {
      "cell_type": "markdown",
      "source": [
        "# Audio Analysis"
      ],
      "metadata": {
        "id": "cBVZUrdRV21X"
      }
    },
    {
      "cell_type": "code",
      "source": [
        "from google.genai.types import GenerateContentResponse\n",
        "from google.genai.types import Part, Content\n",
        "prompt= ''''Analyze the audio in the provided video and give the Output of User Speaking: .\n",
        " And Also Describe in two lines the video description'\n",
        "'''\n",
        "\n",
        "response : GenerateContentResponse = client.models.generate_content(\n",
        "    model = model,\n",
        "    contents=[\n",
        "        Content(\n",
        "            role = 'User',\n",
        "            parts = [\n",
        "                Part.from_uri(\n",
        "                    file_uri = Video.uri or '',\n",
        "                    mime_type = Video.mime_type or '',\n",
        "                )\n",
        "            ],\n",
        "       ),\n",
        "      prompt\n",
        "    ],\n",
        "\n",
        ")"
      ],
      "metadata": {
        "id": "wYi5M19wUHCI"
      },
      "execution_count": null,
      "outputs": []
    },
    {
      "cell_type": "code",
      "execution_count": null,
      "metadata": {
        "id": "0nRhulxOfncQ",
        "colab": {
          "base_uri": "https://localhost:8080/",
          "height": 157
        },
        "outputId": "348c7285-ab26-480a-fc3d-abc49d1eee95"
      },
      "outputs": [
        {
          "output_type": "display_data",
          "data": {
            "text/plain": [
              "<IPython.core.display.Markdown object>"
            ],
            "text/markdown": "Okay, here's the analysis:\n\n**Output of User Speaking:**\n\n10, 9, 8, 7, 6, 5, 4, 3, 2, 1\n\n**Video Description:**\n\nThe video is an animated countdown from 10 to 1, set against a blue starfield. Each number has a different space themed visual as it counts down to a rocket launch."
          },
          "metadata": {}
        }
      ],
      "source": [
        "display(Markdown(response.text))"
      ]
    },
    {
      "cell_type": "code",
      "source": [],
      "metadata": {
        "id": "U-5Xcv3JWIEZ"
      },
      "execution_count": null,
      "outputs": []
    }
  ],
  "metadata": {
    "colab": {
      "provenance": [],
      "authorship_tag": "ABX9TyNM6I8WJbLNY4tx6lSEGBsS",
      "include_colab_link": true
    },
    "kernelspec": {
      "display_name": "Python 3",
      "name": "python3"
    },
    "language_info": {
      "name": "python"
    }
  },
  "nbformat": 4,
  "nbformat_minor": 0
}